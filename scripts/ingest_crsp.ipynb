{
 "cells": [
  {
   "cell_type": "code",
   "execution_count": 1,
   "id": "c5f0e6d0-aab8-4ea6-aa70-19971076bc4e",
   "metadata": {},
   "outputs": [],
   "source": [
    "import wrds\n",
    "import pandas as pd\n",
    "from sqlalchemy import create_engine"
   ]
  },
  {
   "cell_type": "code",
   "execution_count": 2,
   "id": "e960b0d1-8375-4605-acb2-2ce1cb75e472",
   "metadata": {},
   "outputs": [],
   "source": [
    "start_date = '2020-01-01'\n",
    "end_date = '2023-12-31'\n",
    "db_path = '/Users/niveditavats/Documents/Projects_CC/equity_analytics_pipelines/database/investment_data.sqlite'\n"
   ]
  },
  {
   "cell_type": "code",
   "execution_count": 3,
   "id": "9c2274a5-5a71-4a60-87e2-86e312fd4e0a",
   "metadata": {},
   "outputs": [
    {
     "name": "stdout",
     "output_type": "stream",
     "text": [
      "Loading library list...\n",
      "Done\n"
     ]
    }
   ],
   "source": [
    "conn = wrds.Connection()\n",
    "engine = create_engine(f\"sqlite:///{db_path}\")\n"
   ]
  },
  {
   "cell_type": "code",
   "execution_count": 4,
   "id": "65d135e4-b1a3-4283-8a0b-54776cc6ea15",
   "metadata": {},
   "outputs": [],
   "source": [
    "query = f\"\"\"\n",
    "    SELECT permno, date, ret\n",
    "    FROM crsp.dsf\n",
    "    WHERE date BETWEEN '{start_date}' AND '{end_date}'\n",
    "      AND permno IN (14593)  -- Example: AAPL permno, replace with mapped permnos\n",
    "\"\"\""
   ]
  },
  {
   "cell_type": "code",
   "execution_count": 5,
   "id": "c773284e-84d2-40e5-ad59-aaf75c936cb8",
   "metadata": {},
   "outputs": [
    {
     "name": "stdout",
     "output_type": "stream",
     "text": [
      "CRSP daily returns pulled from WRDS and stored in database.\n"
     ]
    }
   ],
   "source": [
    "prices = conn.raw_sql(query)\n",
    "prices['symbol'] = 'AAPL'\n",
    "prices['date'] = pd.to_datetime(prices['date'])\n",
    "prices = prices[prices['ret'].notnull()]\n",
    "prices.to_sql(\"crsp_daily\", con=engine, if_exists=\"replace\", index=False)\n",
    "print(\"CRSP daily returns pulled from WRDS and stored in database.\")\n",
    "\n"
   ]
  },
  {
   "cell_type": "code",
   "execution_count": null,
   "id": "56f50a38-9ae0-49e3-a45a-eac960cfb2af",
   "metadata": {},
   "outputs": [],
   "source": []
  },
  {
   "cell_type": "code",
   "execution_count": null,
   "id": "895a19e4-9167-415a-baff-70df53baca2a",
   "metadata": {},
   "outputs": [],
   "source": []
  },
  {
   "cell_type": "code",
   "execution_count": null,
   "id": "f07e8e2b-f091-40f3-90e7-f7f07f4d8f06",
   "metadata": {},
   "outputs": [],
   "source": []
  },
  {
   "cell_type": "code",
   "execution_count": null,
   "id": "a0923d3d-e57a-43eb-8533-b77bb287b54a",
   "metadata": {},
   "outputs": [],
   "source": []
  },
  {
   "cell_type": "code",
   "execution_count": null,
   "id": "6d35b6fe-87ba-4bce-877f-3f324167c617",
   "metadata": {},
   "outputs": [],
   "source": []
  },
  {
   "cell_type": "code",
   "execution_count": null,
   "id": "a6799e88-8a96-4b93-8d0c-bd0f1b7b3612",
   "metadata": {},
   "outputs": [],
   "source": []
  },
  {
   "cell_type": "code",
   "execution_count": null,
   "id": "05af6d25-9476-4263-8929-e3bba6ff78de",
   "metadata": {},
   "outputs": [],
   "source": []
  },
  {
   "cell_type": "code",
   "execution_count": null,
   "id": "bc941eff-c80a-479e-b9d5-db3549431d29",
   "metadata": {},
   "outputs": [],
   "source": []
  },
  {
   "cell_type": "code",
   "execution_count": null,
   "id": "b35b1f7c-a17a-470d-89fe-93f4b31dbfeb",
   "metadata": {},
   "outputs": [],
   "source": []
  },
  {
   "cell_type": "code",
   "execution_count": null,
   "id": "ac7e5494-2aae-434c-bbb4-6a8ec95f5528",
   "metadata": {},
   "outputs": [],
   "source": []
  },
  {
   "cell_type": "code",
   "execution_count": null,
   "id": "3a42c6f5-10c5-4aaa-a867-cbebdfa6f232",
   "metadata": {},
   "outputs": [],
   "source": []
  }
 ],
 "metadata": {
  "kernelspec": {
   "display_name": "Python 3 (ipykernel)",
   "language": "python",
   "name": "python3"
  },
  "language_info": {
   "codemirror_mode": {
    "name": "ipython",
    "version": 3
   },
   "file_extension": ".py",
   "mimetype": "text/x-python",
   "name": "python",
   "nbconvert_exporter": "python",
   "pygments_lexer": "ipython3",
   "version": "3.11.8"
  }
 },
 "nbformat": 4,
 "nbformat_minor": 5
}
