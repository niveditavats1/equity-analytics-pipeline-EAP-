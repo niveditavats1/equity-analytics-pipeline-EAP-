{
 "cells": [
  {
   "cell_type": "code",
   "execution_count": 1,
   "id": "65fb4107-bd8c-41a2-aa81-9bf3d57816ff",
   "metadata": {
    "execution": {
     "iopub.execute_input": "2025-05-09T05:28:25.144488Z",
     "iopub.status.busy": "2025-05-09T05:28:25.143697Z",
     "iopub.status.idle": "2025-05-09T05:28:25.514553Z",
     "shell.execute_reply": "2025-05-09T05:28:25.514221Z"
    }
   },
   "outputs": [],
   "source": [
    "import pandas_datareader.data as web\n",
    "from sqlalchemy import create_engine\n",
    "import datetime\n",
    "import pandas as pd"
   ]
  },
  {
   "cell_type": "code",
   "execution_count": 2,
   "id": "1ed0c88e-fccd-49c9-9479-c74b1fe082b6",
   "metadata": {
    "execution": {
     "iopub.execute_input": "2025-05-09T05:28:25.516099Z",
     "iopub.status.busy": "2025-05-09T05:28:25.515987Z",
     "iopub.status.idle": "2025-05-09T05:28:25.517769Z",
     "shell.execute_reply": "2025-05-09T05:28:25.517582Z"
    }
   },
   "outputs": [],
   "source": [
    "\n",
    "start = datetime.datetime(2005, 1, 1)\n",
    "end = datetime.datetime(2023, 12, 31)\n",
    "db_path = \"/Users/niveditavats/Documents/Projects_CC/equity_analytics_pipelines/database/investment_data.sqlite\"\n"
   ]
  },
  {
   "cell_type": "code",
   "execution_count": 3,
   "id": "7444073b-b6d3-4749-b9d7-e318eb45ee28",
   "metadata": {
    "execution": {
     "iopub.execute_input": "2025-05-09T05:28:25.518893Z",
     "iopub.status.busy": "2025-05-09T05:28:25.518821Z",
     "iopub.status.idle": "2025-05-09T05:28:28.304729Z",
     "shell.execute_reply": "2025-05-09T05:28:28.304476Z"
    }
   },
   "outputs": [
    {
     "name": "stderr",
     "output_type": "stream",
     "text": [
      "/var/folders/_j/hd0_zxdd7ms7hgqjnv9jqw280000gn/T/ipykernel_4909/647851903.py:2: FutureWarning: The argument 'date_parser' is deprecated and will be removed in a future version. Please use 'date_format' instead, or read your data in as 'object' dtype and then call 'to_datetime'.\n",
      "  df = web.DataReader(\"F-F_Research_Data_Factors_daily\", \"famafrench\", start, end)[0]\n"
     ]
    },
    {
     "name": "stdout",
     "output_type": "stream",
     "text": [
      "Fama-French daily factors ingested and stored in database.\n"
     ]
    }
   ],
   "source": [
    "engine = create_engine(f\"sqlite:///{db_path}\")\n",
    "df = web.DataReader(\"F-F_Research_Data_Factors_daily\", \"famafrench\", start, end)[0]\n",
    "df = df.reset_index().rename(columns={\n",
    "    'Mkt-RF': 'mktrf', 'SMB': 'smb', 'HML': 'hml', 'RF': 'rf', 'Date': 'date'\n",
    "})\n",
    "df['date'] = pd.to_datetime(df['date'])\n",
    "df.to_sql(\"fama_french_daily\", con=engine, if_exists=\"replace\", index=False)\n",
    "print(\"Fama-French daily factors ingested and stored in database.\")\n"
   ]
  },
  {
   "cell_type": "code",
   "execution_count": null,
   "id": "d635c265-0790-410b-a335-f2097fc388bf",
   "metadata": {},
   "outputs": [],
   "source": []
  },
  {
   "cell_type": "code",
   "execution_count": null,
   "id": "10934f08-2d96-4566-9ec6-440c3ca5f635",
   "metadata": {},
   "outputs": [],
   "source": []
  },
  {
   "cell_type": "code",
   "execution_count": null,
   "id": "3108e7c8-3d89-44ff-b0af-0d3139a1a644",
   "metadata": {},
   "outputs": [],
   "source": []
  },
  {
   "cell_type": "code",
   "execution_count": null,
   "id": "d0f9365d-293f-41ea-b903-75494a4ba280",
   "metadata": {},
   "outputs": [],
   "source": []
  },
  {
   "cell_type": "code",
   "execution_count": null,
   "id": "6f59d849-1a34-4d16-9a2a-e8893fcd913c",
   "metadata": {},
   "outputs": [],
   "source": []
  },
  {
   "cell_type": "code",
   "execution_count": null,
   "id": "2225c3e3-69d1-4756-bd4b-c93ee424d1cd",
   "metadata": {},
   "outputs": [],
   "source": []
  },
  {
   "cell_type": "code",
   "execution_count": null,
   "id": "c82ecd2c-df02-456e-ba6c-a43e32dfafc4",
   "metadata": {},
   "outputs": [],
   "source": []
  },
  {
   "cell_type": "code",
   "execution_count": null,
   "id": "f3eb5036-12a3-462f-b1ff-7c009a920ecc",
   "metadata": {},
   "outputs": [],
   "source": []
  },
  {
   "cell_type": "code",
   "execution_count": null,
   "id": "74e489eb-6515-48bb-9dc9-712270e26b90",
   "metadata": {},
   "outputs": [],
   "source": []
  },
  {
   "cell_type": "code",
   "execution_count": null,
   "id": "85cf6ce7-84bd-42d3-bf87-5bbc5e5a025a",
   "metadata": {},
   "outputs": [],
   "source": []
  }
 ],
 "metadata": {
  "kernelspec": {
   "display_name": "Python 3 (ipykernel)",
   "language": "python",
   "name": "python3"
  },
  "language_info": {
   "codemirror_mode": {
    "name": "ipython",
    "version": 3
   },
   "file_extension": ".py",
   "mimetype": "text/x-python",
   "name": "python",
   "nbconvert_exporter": "python",
   "pygments_lexer": "ipython3",
   "version": "3.11.8"
  }
 },
 "nbformat": 4,
 "nbformat_minor": 5
}
