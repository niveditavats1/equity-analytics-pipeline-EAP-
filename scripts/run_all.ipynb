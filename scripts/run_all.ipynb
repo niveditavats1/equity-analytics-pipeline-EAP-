{
 "cells": [
  {
   "cell_type": "code",
   "execution_count": null,
   "id": "ac7f1cf0-fe8e-41d7-8c0c-2d0f5a329c9b",
   "metadata": {},
   "outputs": [
    {
     "name": "stdout",
     "output_type": "stream",
     "text": [
      "Running notebooks in: /Users/niveditavats/Documents/Projects_CC/equity_analytics_pipelines/scripts\n",
      "\n",
      "🚀 Running /Users/niveditavats/Documents/Projects_CC/equity_analytics_pipelines/scripts/ingest_compustat.ipynb...\n"
     ]
    },
    {
     "name": "stderr",
     "output_type": "stream",
     "text": [
      "[NbConvertApp] Converting notebook /Users/niveditavats/Documents/Projects_CC/equity_analytics_pipelines/scripts/ingest_compustat.ipynb to notebook\n",
      "0.00s - Debugger warning: It seems that frozen modules are being used, which may\n",
      "0.00s - make the debugger miss breakpoints. Please pass -Xfrozen_modules=off\n",
      "0.00s - to python to disable frozen modules.\n",
      "0.00s - Note: Debugging will proceed. Set PYDEVD_DISABLE_FILE_VALIDATION=1 to disable this validation.\n",
      "0.00s - Debugger warning: It seems that frozen modules are being used, which may\n",
      "0.00s - make the debugger miss breakpoints. Please pass -Xfrozen_modules=off\n",
      "0.00s - to python to disable frozen modules.\n",
      "0.00s - Note: Debugging will proceed. Set PYDEVD_DISABLE_FILE_VALIDATION=1 to disable this validation.\n",
      "[NbConvertApp] Writing 22098 bytes to /Users/niveditavats/Documents/Projects_CC/equity_analytics_pipelines/scripts/ingest_compustat.ipynb\n"
     ]
    },
    {
     "name": "stdout",
     "output_type": "stream",
     "text": [
      "✅ Completed ingest_compustat.ipynb\n",
      "\n",
      "\n",
      "🚀 Running /Users/niveditavats/Documents/Projects_CC/equity_analytics_pipelines/scripts/ingest_crsp.ipynb...\n"
     ]
    },
    {
     "name": "stderr",
     "output_type": "stream",
     "text": [
      "[NbConvertApp] Converting notebook /Users/niveditavats/Documents/Projects_CC/equity_analytics_pipelines/scripts/ingest_crsp.ipynb to notebook\n",
      "0.00s - Debugger warning: It seems that frozen modules are being used, which may\n",
      "0.00s - make the debugger miss breakpoints. Please pass -Xfrozen_modules=off\n",
      "0.00s - to python to disable frozen modules.\n",
      "0.00s - Note: Debugging will proceed. Set PYDEVD_DISABLE_FILE_VALIDATION=1 to disable this validation.\n",
      "0.00s - Debugger warning: It seems that frozen modules are being used, which may\n",
      "0.00s - make the debugger miss breakpoints. Please pass -Xfrozen_modules=off\n",
      "0.00s - to python to disable frozen modules.\n",
      "0.00s - Note: Debugging will proceed. Set PYDEVD_DISABLE_FILE_VALIDATION=1 to disable this validation.\n",
      "[NbConvertApp] Writing 6345 bytes to /Users/niveditavats/Documents/Projects_CC/equity_analytics_pipelines/scripts/ingest_crsp.ipynb\n"
     ]
    },
    {
     "name": "stdout",
     "output_type": "stream",
     "text": [
      "✅ Completed ingest_crsp.ipynb\n",
      "\n",
      "\n",
      "🚀 Running /Users/niveditavats/Documents/Projects_CC/equity_analytics_pipelines/scripts/ingest_fama_french.ipynb...\n"
     ]
    },
    {
     "name": "stderr",
     "output_type": "stream",
     "text": [
      "[NbConvertApp] Converting notebook /Users/niveditavats/Documents/Projects_CC/equity_analytics_pipelines/scripts/ingest_fama_french.ipynb to notebook\n",
      "0.00s - Debugger warning: It seems that frozen modules are being used, which may\n",
      "0.00s - make the debugger miss breakpoints. Please pass -Xfrozen_modules=off\n",
      "0.00s - to python to disable frozen modules.\n",
      "0.00s - Note: Debugging will proceed. Set PYDEVD_DISABLE_FILE_VALIDATION=1 to disable this validation.\n",
      "0.00s - Debugger warning: It seems that frozen modules are being used, which may\n",
      "0.00s - make the debugger miss breakpoints. Please pass -Xfrozen_modules=off\n",
      "0.00s - to python to disable frozen modules.\n",
      "0.00s - Note: Debugging will proceed. Set PYDEVD_DISABLE_FILE_VALIDATION=1 to disable this validation.\n",
      "[NbConvertApp] Writing 4883 bytes to /Users/niveditavats/Documents/Projects_CC/equity_analytics_pipelines/scripts/ingest_fama_french.ipynb\n"
     ]
    },
    {
     "name": "stdout",
     "output_type": "stream",
     "text": [
      "✅ Completed ingest_fama_french.ipynb\n",
      "\n",
      "\n",
      "🚀 Running /Users/niveditavats/Documents/Projects_CC/equity_analytics_pipelines/scripts/merge_and_compute_returns.ipynb...\n"
     ]
    }
   ],
   "source": [
    "import subprocess\n",
    "import os\n",
    "\n",
    "# Update with the ACTUAL notebook names (with .ipynb extension)\n",
    "notebooks = [\n",
    "    \"ingest_compustat.ipynb\",\n",
    "    \"ingest_crsp.ipynb\",\n",
    "    \"ingest_fama_french.ipynb\",\n",
    "    \"merge_and_compute_returns.ipynb\"\n",
    "]\n",
    "\n",
    "# Since you're already in the scripts directory\n",
    "script_dir = os.getcwd()\n",
    "print(f\"Running notebooks in: {script_dir}\")\n",
    "\n",
    "for notebook in notebooks:\n",
    "    notebook_path = os.path.join(script_dir, notebook)\n",
    "    \n",
    "    if not os.path.exists(notebook_path):\n",
    "        print(f\"🚫 Notebook not found: {notebook_path}\")\n",
    "        continue\n",
    "    \n",
    "    print(f\"\\n🚀 Running {notebook_path}...\")\n",
    "    # Use nbconvert to execute the notebook\n",
    "    result = subprocess.run([\n",
    "        \"jupyter\", \"nbconvert\", \n",
    "        \"--to\", \"notebook\", \n",
    "        \"--execute\", \n",
    "        \"--inplace\",\n",
    "        notebook_path\n",
    "    ])\n",
    "    \n",
    "    if result.returncode == 0:\n",
    "        print(f\"✅ Completed {notebook}\\n\")\n",
    "    else:\n",
    "        print(f\"❌ Failed: {notebook}\\n\")\n",
    "\n",
    "print(\"✨ All notebooks executed.\")"
   ]
  },
  {
   "cell_type": "code",
   "execution_count": null,
   "id": "18f7e041-59dd-4032-9148-72765422b5f7",
   "metadata": {},
   "outputs": [],
   "source": []
  },
  {
   "cell_type": "code",
   "execution_count": 48,
   "id": "82a01303-d485-4fb0-8132-173c4209847e",
   "metadata": {},
   "outputs": [
    {
     "name": "stdout",
     "output_type": "stream",
     "text": [
      "Total unique stocks: 0\n",
      "Empty DataFrame\n",
      "Columns: [symbol]\n",
      "Index: []\n"
     ]
    }
   ],
   "source": []
  }
 ],
 "metadata": {
  "kernelspec": {
   "display_name": "Python 3 (ipykernel)",
   "language": "python",
   "name": "python3"
  },
  "language_info": {
   "codemirror_mode": {
    "name": "ipython",
    "version": 3
   },
   "file_extension": ".py",
   "mimetype": "text/x-python",
   "name": "python",
   "nbconvert_exporter": "python",
   "pygments_lexer": "ipython3",
   "version": "3.11.8"
  }
 },
 "nbformat": 4,
 "nbformat_minor": 5
}
