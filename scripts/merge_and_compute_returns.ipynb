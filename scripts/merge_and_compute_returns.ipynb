{
 "cells": [
  {
   "cell_type": "code",
   "execution_count": 1,
   "id": "483f465f-24a7-4d66-a443-8001b76bf4f5",
   "metadata": {
    "execution": {
     "iopub.execute_input": "2025-05-09T04:52:30.165268Z",
     "iopub.status.busy": "2025-05-09T04:52:30.165180Z",
     "iopub.status.idle": "2025-05-09T04:52:30.505390Z",
     "shell.execute_reply": "2025-05-09T04:52:30.505121Z"
    }
   },
   "outputs": [],
   "source": [
    "import pandas as pd\n",
    "from sqlalchemy import create_engine"
   ]
  },
  {
   "cell_type": "code",
   "execution_count": 2,
   "id": "73b395cb-b49d-4f65-92f1-a9340a12a960",
   "metadata": {
    "execution": {
     "iopub.execute_input": "2025-05-09T04:52:30.507052Z",
     "iopub.status.busy": "2025-05-09T04:52:30.506911Z",
     "iopub.status.idle": "2025-05-09T04:52:30.512053Z",
     "shell.execute_reply": "2025-05-09T04:52:30.511828Z"
    }
   },
   "outputs": [],
   "source": [
    "engine = create_engine(\"sqlite:///../database/investment_data.sqlite\")"
   ]
  },
  {
   "cell_type": "code",
   "execution_count": 3,
   "id": "aee194f3-15e3-4a8c-a5fd-5934af4bc47c",
   "metadata": {
    "execution": {
     "iopub.execute_input": "2025-05-09T04:52:30.513489Z",
     "iopub.status.busy": "2025-05-09T04:52:30.513399Z",
     "iopub.status.idle": "2025-05-09T04:52:34.294531Z",
     "shell.execute_reply": "2025-05-09T04:52:34.294271Z"
    }
   },
   "outputs": [
    {
     "name": "stdout",
     "output_type": "stream",
     "text": [
      "Merged data with quarterly returns stored in database.\n"
     ]
    }
   ],
   "source": [
    "\n",
    "comp = pd.read_sql(\"SELECT * FROM compustat_quarterly\", con=engine)\n",
    "comp['datadate'] = pd.to_datetime(comp['datadate'])\n",
    "crsp = pd.read_sql(\"SELECT * FROM crsp_daily\", con=engine)\n",
    "crsp['date'] = pd.to_datetime(crsp['date'])\n",
    "ff = pd.read_sql(\"SELECT * FROM fama_french_daily\", con=engine)\n",
    "\n",
    "crsp['quarter'] = crsp['date'].dt.to_period('Q')\n",
    "returns_qtr = crsp.groupby(['symbol', 'quarter'])['ret'].apply(lambda x: (1 + x).prod() - 1).reset_index()\n",
    "returns_qtr = returns_qtr.rename(columns={'ret': 'qtr_return'})\n",
    "\n",
    "comp['quarter'] = comp['datadate'].dt.to_period('Q')\n",
    "\n",
    "merged = pd.merge(comp, returns_qtr, on=['symbol', 'quarter'], how='inner')\n",
    "merged['quarter'] = merged['quarter'].astype(str)\n",
    "merged.to_sql(\"merged_fundamentals_returns\", con=engine, if_exists=\"replace\", index=False)\n",
    "print(\"Merged data with quarterly returns stored in database.\")\n"
   ]
  },
  {
   "cell_type": "code",
   "execution_count": 4,
   "id": "d766c36e-a380-46be-aec8-197fe19f839e",
   "metadata": {
    "execution": {
     "iopub.execute_input": "2025-05-09T04:52:34.295849Z",
     "iopub.status.busy": "2025-05-09T04:52:34.295760Z",
     "iopub.status.idle": "2025-05-09T04:52:34.297395Z",
     "shell.execute_reply": "2025-05-09T04:52:34.297195Z"
    }
   },
   "outputs": [
    {
     "name": "stdout",
     "output_type": "stream",
     "text": [
      "Export to MySQL skipped. All data remains in SQLite database.\n"
     ]
    }
   ],
   "source": [
    "print(\"Export to MySQL skipped. All data remains in SQLite database.\")"
   ]
  },
  {
   "cell_type": "code",
   "execution_count": null,
   "id": "9b63c3c0-e3e9-40aa-92ab-b007b4ca9b10",
   "metadata": {},
   "outputs": [],
   "source": []
  },
  {
   "cell_type": "code",
   "execution_count": null,
   "id": "a65b6073-f0cd-4651-b4c5-70ed4942a51d",
   "metadata": {},
   "outputs": [],
   "source": []
  },
  {
   "cell_type": "code",
   "execution_count": null,
   "id": "6102463d-eea6-4ff7-9de2-ca18c2f1ac81",
   "metadata": {},
   "outputs": [],
   "source": []
  },
  {
   "cell_type": "code",
   "execution_count": null,
   "id": "f016c1fc-32b6-4368-a0f0-de75a4657e56",
   "metadata": {},
   "outputs": [],
   "source": []
  },
  {
   "cell_type": "code",
   "execution_count": null,
   "id": "01323b7c-dcf1-46ca-8474-52d14164754b",
   "metadata": {},
   "outputs": [],
   "source": []
  }
 ],
 "metadata": {
  "kernelspec": {
   "display_name": "Python 3 (ipykernel)",
   "language": "python",
   "name": "python3"
  },
  "language_info": {
   "codemirror_mode": {
    "name": "ipython",
    "version": 3
   },
   "file_extension": ".py",
   "mimetype": "text/x-python",
   "name": "python",
   "nbconvert_exporter": "python",
   "pygments_lexer": "ipython3",
   "version": "3.11.8"
  }
 },
 "nbformat": 4,
 "nbformat_minor": 5
}
