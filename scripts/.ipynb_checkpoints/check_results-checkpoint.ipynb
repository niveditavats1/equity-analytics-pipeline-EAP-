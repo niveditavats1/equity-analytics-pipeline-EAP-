{
 "cells": [
  {
   "cell_type": "code",
   "execution_count": 10,
   "id": "33d55377-e823-40a5-8637-05244b654323",
   "metadata": {},
   "outputs": [],
   "source": [
    "import sqlite3\n",
    "import pandas as pd"
   ]
  },
  {
   "cell_type": "code",
   "execution_count": 18,
   "id": "49672c06-15cb-4052-b379-1f8e057b9a67",
   "metadata": {},
   "outputs": [],
   "source": [
    "# Path to your SQLite database\n",
    "db_path = \"/Users/niveditavats/Documents/Projects_CC/equity_analytics_pipelines/database/investment_data.sqlite\""
   ]
  },
  {
   "cell_type": "code",
   "execution_count": 19,
   "id": "e3723b46-2e73-4fba-a43a-ac4c3b2c924d",
   "metadata": {},
   "outputs": [],
   "source": [
    "# Connect to the database\n",
    "conn = sqlite3.connect(db_path)"
   ]
  },
  {
   "cell_type": "code",
   "execution_count": 23,
   "id": "aa5de242-7613-4b47-aab1-61f070796844",
   "metadata": {},
   "outputs": [],
   "source": [
    "# Check how many and which stock symbols are in your final merged table\n",
    "query = \"SELECT DISTINCT symbol FROM merged_fundamentals_returns\"\n",
    "symbols = pd.read_sql(query, conn)"
   ]
  },
  {
   "cell_type": "code",
   "execution_count": 24,
   "id": "fd19ca45-488e-436b-bb29-fbcc2748ef5d",
   "metadata": {},
   "outputs": [
    {
     "name": "stdout",
     "output_type": "stream",
     "text": [
      "Total unique stocks: 0\n",
      "Empty DataFrame\n",
      "Columns: [symbol]\n",
      "Index: []\n"
     ]
    }
   ],
   "source": [
    "print(\"Total unique stocks:\", len(symbols))\n",
    "print(symbols.head(10))  # Show first 10 symbols"
   ]
  },
  {
   "cell_type": "code",
   "execution_count": null,
   "id": "f04f002e-ca74-4e19-a487-0575bf7c28c6",
   "metadata": {},
   "outputs": [],
   "source": []
  },
  {
   "cell_type": "code",
   "execution_count": null,
   "id": "f4e0786b-e25b-4e2b-b5a8-f94c59afba6e",
   "metadata": {},
   "outputs": [],
   "source": []
  },
  {
   "cell_type": "code",
   "execution_count": null,
   "id": "9c54b36d-9367-4971-818b-a4a1da807928",
   "metadata": {},
   "outputs": [],
   "source": []
  },
  {
   "cell_type": "code",
   "execution_count": null,
   "id": "e20e62be-7dfd-4ecc-9646-6b2649ed3b40",
   "metadata": {},
   "outputs": [],
   "source": []
  }
 ],
 "metadata": {
  "kernelspec": {
   "display_name": "Python 3 (ipykernel)",
   "language": "python",
   "name": "python3"
  },
  "language_info": {
   "codemirror_mode": {
    "name": "ipython",
    "version": 3
   },
   "file_extension": ".py",
   "mimetype": "text/x-python",
   "name": "python",
   "nbconvert_exporter": "python",
   "pygments_lexer": "ipython3",
   "version": "3.11.8"
  }
 },
 "nbformat": 4,
 "nbformat_minor": 5
}
