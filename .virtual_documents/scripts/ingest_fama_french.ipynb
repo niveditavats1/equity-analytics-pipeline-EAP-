import pandas_datareader.data as web
from sqlalchemy import create_engine
import datetime
import pandas as pd



start = datetime.datetime(2005, 1, 1)
end = datetime.datetime(2023, 12, 31)
db_path = "/Users/niveditavats/Documents/Projects_CC/equity_analytics_pipelines/database/investment_data.sqlite"



engine = create_engine(f"sqlite:///{db_path}")
df = web.DataReader("F-F_Research_Data_Factors_daily", "famafrench", start, end)[0]
df = df.reset_index().rename(columns={
    'Mkt-RF': 'mktrf', 'SMB': 'smb', 'HML': 'hml', 'RF': 'rf', 'Date': 'date'
})
df['date'] = pd.to_datetime(df['date'])
df.to_sql("fama_french_daily", con=engine, if_exists="replace", index=False)
print("Fama-French daily factors ingested and stored in database.")































