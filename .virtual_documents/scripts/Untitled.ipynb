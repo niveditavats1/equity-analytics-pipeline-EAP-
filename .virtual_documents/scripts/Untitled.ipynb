import sqlite3
import pandas as pd


# Path to your SQLite database
db_path = "/Users/niveditavats/Documents/Projects_CC/equity_analytics_pipelines/database/investment_data.sqlite"


# Connect to the database
conn = sqlite3.connect(db_path)


# Check how many and which stock symbols are in your final merged table
query = "SELECT DISTINCT symbol FROM merged_fundamentals_returns"
symbols = pd.read_sql(query, conn)


print("Total unique stocks:", len(symbols))
print(symbols.head(10))  # Show first 10 symbols












