import sqlite3
import pandas as pd


# Path to your SQLite database
db_path = "/Users/niveditavats/Documents/Projects_CC/equity_analytics_pipelines/database/investment_data.sqlite"


# Connect to the database
conn = sqlite3.connect(db_path)


# Read a sample from the merged table
df = pd.read_sql("SELECT * FROM merged_fundamentals_returns LIMIT 10", conn)



# Display it
df.head()
