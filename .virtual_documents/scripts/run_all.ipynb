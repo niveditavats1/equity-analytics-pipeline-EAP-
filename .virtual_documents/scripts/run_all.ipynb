import subprocess
import os

# Update with the ACTUAL notebook names (with .ipynb extension)
notebooks = [
    "ingest_compustat.ipynb",
    "ingest_crsp.ipynb",
    "ingest_fama_french.ipynb",
    "merge_and_compute_returns.ipynb"
]

# Since you're already in the scripts directory
script_dir = os.getcwd()
print(f"Running notebooks in: {script_dir}")

for notebook in notebooks:
    notebook_path = os.path.join(script_dir, notebook)
    
    if not os.path.exists(notebook_path):
        print(f"🚫 Notebook not found: {notebook_path}")
        continue
    
    print(f"\n🚀 Running {notebook_path}...")
    # Use nbconvert to execute the notebook
    result = subprocess.run([
        "jupyter", "nbconvert", 
        "--to", "notebook", 
        "--execute", 
        "--inplace",
        notebook_path
    ])
    
    if result.returncode == 0:
        print(f"✅ Completed {notebook}\n")
    else:
        print(f"❌ Failed: {notebook}\n")

print("✨ All notebooks executed.")






