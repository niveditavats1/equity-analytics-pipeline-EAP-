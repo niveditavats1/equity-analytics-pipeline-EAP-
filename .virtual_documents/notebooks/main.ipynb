pip install wrds



!pip install sqlalchemy




pip install pandas_datareader



# Folder: scripts/ingest_compustat.py
import wrds
import pandas as pd
from sqlalchemy import create_engine


# WRDS login and parameters
start_date = '2005-01-01'
end_date = '2023-12-31'
db_path = "/Users/niveditavats/Documents/Projects_CC/equity_analytics_pipelines/database/investment_data.sqlite"


# start_date = "2005-01-01"
# end_date = "2023-12-31"
# db_path = "/Users/niveditavats/Documents/Projects_CC/equity_analytics_pipelines/database/investment_data.sqlite"



# Connect to WRDS and SQLite
conn = wrds.Connection()
engine = create_engine(f"sqlite:///{db_path}")


conn.list_table_columns(library='comp', table='fundq')



# Query Compustat fundamentals (quarterly) — using confirmed columns only
query = f"""
    SELECT gvkey, datadate, atq AS at, ltq AS lt, saleq AS sale, cogsq AS cogs, xintq AS xint, xsgaq AS xsga, oancfy AS oancf
    FROM comp.fundq
    WHERE indfmt = 'INDL'
      AND datafmt = 'STD'
      AND consol = 'C'
      AND popsrc = 'D'
      AND datadate BETWEEN '{start_date}' AND '{end_date}'
"""
data = conn.raw_sql(query)



# Example mapping (replace with CCM linking table in future)
data['symbol'] = 'AAPL'
data['datadate'] = pd.to_datetime(data['datadate'])
data['book_equity'] = data['at'] - data['lt']


# Compute profitability
with pd.option_context('mode.use_inf_as_na', True):
    data['profitability'] = (data['sale'] - data['cogs'] - data['xsga'] - data['xint']) / data['at']



# Write to database
data.to_sql("compustat_quarterly", con=engine, if_exists="replace", index=False)
print("Compustat data loaded from WRDS and stored in database.")






# Folder: scripts/ingest_crsp.py
import wrds
import pandas as pd
from sqlalchemy import create_engine

start_date = '2020-01-01'
end_date = '2023-12-31'
db_path = '../database/investment_data.sqlite'

conn = wrds.Connection()
engine = create_engine(f"sqlite:///{db_path}")

query = f"""
    SELECT permno, date, ret
    FROM crsp.dsf
    WHERE date BETWEEN '{start_date}' AND '{end_date}'
      AND permno IN (14593)  -- Example: AAPL permno, replace with mapped permnos
"""

prices = conn.raw_sql(query)
prices['symbol'] = 'AAPL'
prices['date'] = pd.to_datetime(prices['date'])
prices = prices[prices['ret'].notnull()]
prices.to_sql("crsp_daily", con=engine, if_exists="replace", index=False)
print("CRSP daily returns pulled from WRDS and stored in database.")




# Folder: scripts/ingest_fama_french.py
import pandas_datareader.data as web
from sqlalchemy import create_engine
import datetime

start = datetime.datetime(2005, 1, 1)
end = datetime.datetime(2023, 12, 31)
db_path = "../database/investment_data.sqlite"

engine = create_engine(f"sqlite:///{db_path}")
df = web.DataReader("F-F_Research_Data_Factors_daily", "famafrench", start, end)[0]
df = df.reset_index().rename(columns={
    'Mkt-RF': 'mktrf', 'SMB': 'smb', 'HML': 'hml', 'RF': 'rf', 'Date': 'date'
})
df['date'] = pd.to_datetime(df['date'])
df.to_sql("fama_french_daily", con=engine, if_exists="replace", index=False)
print("Fama-French daily factors ingested and stored in database.")



# Folder: scripts/merge_and_compute_returns.py
import pandas as pd
from sqlalchemy import create_engine

engine = create_engine("sqlite:///../database/investment_data.sqlite")

comp = pd.read_sql("SELECT * FROM compustat_quarterly", con=engine)
comp['datadate'] = pd.to_datetime(comp['datadate'])
crsp = pd.read_sql("SELECT * FROM crsp_daily", con=engine)
crsp['date'] = pd.to_datetime(crsp['date'])
ff = pd.read_sql("SELECT * FROM fama_french_daily", con=engine)

crsp['quarter'] = crsp['date'].dt.to_period('Q')
returns_qtr = crsp.groupby(['symbol', 'quarter'])['ret'].apply(lambda x: (1 + x).prod() - 1).reset_index()
returns_qtr = returns_qtr.rename(columns={'ret': 'qtr_return'})

comp['quarter'] = comp['datadate'].dt.to_period('Q')

merged = pd.merge(comp, returns_qtr, on=['symbol', 'quarter'], how='inner')
merged['quarter'] = merged['quarter'].astype(str)
merged.to_sql("merged_fundamentals_returns", con=engine, if_exists="replace", index=False)
print("Merged data with quarterly returns stored in database.")






import pandas as pd
from sqlalchemy import create_engine

engine = create_engine("sqlite:///../database/investment_data.sqlite")
df = pd.read_sql("SELECT * FROM merged_fundamentals_returns LIMIT 10", con=engine)
print(df)






































