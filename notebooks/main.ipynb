{
 "cells": [
  {
   "cell_type": "code",
   "execution_count": 10,
   "id": "c7a3a643-c7ad-4e32-9065-14a969587d46",
   "metadata": {},
   "outputs": [
    {
     "name": "stdout",
     "output_type": "stream",
     "text": [
      "Requirement already satisfied: wrds in /opt/anaconda3/lib/python3.11/site-packages (3.2.0)\n",
      "Requirement already satisfied: numpy<1.27,>=1.26 in /opt/anaconda3/lib/python3.11/site-packages (from wrds) (1.26.4)\n",
      "Requirement already satisfied: packaging<23.3 in /opt/anaconda3/lib/python3.11/site-packages (from wrds) (23.2)\n",
      "Requirement already satisfied: pandas<2.3,>=2.2 in /opt/anaconda3/lib/python3.11/site-packages (from wrds) (2.2.3)\n",
      "Requirement already satisfied: psycopg2-binary<2.10,>=2.9 in /opt/anaconda3/lib/python3.11/site-packages (from wrds) (2.9.10)\n",
      "Requirement already satisfied: scipy<1.13,>=1.12 in /opt/anaconda3/lib/python3.11/site-packages (from wrds) (1.12.0)\n",
      "Requirement already satisfied: sqlalchemy<2.1,>=2 in /opt/anaconda3/lib/python3.11/site-packages (from wrds) (2.0.39)\n",
      "Requirement already satisfied: python-dateutil>=2.8.2 in /opt/anaconda3/lib/python3.11/site-packages (from pandas<2.3,>=2.2->wrds) (2.8.2)\n",
      "Requirement already satisfied: pytz>=2020.1 in /opt/anaconda3/lib/python3.11/site-packages (from pandas<2.3,>=2.2->wrds) (2023.3.post1)\n",
      "Requirement already satisfied: tzdata>=2022.7 in /opt/anaconda3/lib/python3.11/site-packages (from pandas<2.3,>=2.2->wrds) (2023.3)\n",
      "Requirement already satisfied: typing-extensions>=4.6.0 in /opt/anaconda3/lib/python3.11/site-packages (from sqlalchemy<2.1,>=2->wrds) (4.13.2)\n",
      "Requirement already satisfied: six>=1.5 in /opt/anaconda3/lib/python3.11/site-packages (from python-dateutil>=2.8.2->pandas<2.3,>=2.2->wrds) (1.16.0)\n",
      "\n",
      "\u001b[1m[\u001b[0m\u001b[34;49mnotice\u001b[0m\u001b[1;39;49m]\u001b[0m\u001b[39;49m A new release of pip is available: \u001b[0m\u001b[31;49m25.1\u001b[0m\u001b[39;49m -> \u001b[0m\u001b[32;49m25.1.1\u001b[0m\n",
      "\u001b[1m[\u001b[0m\u001b[34;49mnotice\u001b[0m\u001b[1;39;49m]\u001b[0m\u001b[39;49m To update, run: \u001b[0m\u001b[32;49mpip install --upgrade pip\u001b[0m\n",
      "Note: you may need to restart the kernel to use updated packages.\n"
     ]
    }
   ],
   "source": [
    "pip install wrds\n"
   ]
  },
  {
   "cell_type": "code",
   "execution_count": 13,
   "id": "cb93fc95-1d63-40cc-b25e-42da3e267e1c",
   "metadata": {},
   "outputs": [
    {
     "name": "stdout",
     "output_type": "stream",
     "text": [
      "Requirement already satisfied: sqlalchemy in /opt/anaconda3/lib/python3.11/site-packages (2.0.39)\n",
      "Requirement already satisfied: typing-extensions>=4.6.0 in /opt/anaconda3/lib/python3.11/site-packages (from sqlalchemy) (4.13.2)\n",
      "\n",
      "\u001b[1m[\u001b[0m\u001b[34;49mnotice\u001b[0m\u001b[1;39;49m]\u001b[0m\u001b[39;49m A new release of pip is available: \u001b[0m\u001b[31;49m25.1\u001b[0m\u001b[39;49m -> \u001b[0m\u001b[32;49m25.1.1\u001b[0m\n",
      "\u001b[1m[\u001b[0m\u001b[34;49mnotice\u001b[0m\u001b[1;39;49m]\u001b[0m\u001b[39;49m To update, run: \u001b[0m\u001b[32;49mpip install --upgrade pip\u001b[0m\n"
     ]
    }
   ],
   "source": [
    "!pip install sqlalchemy\n",
    "\n"
   ]
  },
  {
   "cell_type": "code",
   "execution_count": 25,
   "id": "1b7df66c-5b6f-4fd9-9a76-6d7497248eeb",
   "metadata": {},
   "outputs": [
    {
     "name": "stdout",
     "output_type": "stream",
     "text": [
      "Collecting pandas_datareader\n",
      "  Using cached pandas_datareader-0.10.0-py3-none-any.whl.metadata (2.9 kB)\n",
      "Requirement already satisfied: lxml in /opt/anaconda3/lib/python3.11/site-packages (from pandas_datareader) (4.9.3)\n",
      "Requirement already satisfied: pandas>=0.23 in /opt/anaconda3/lib/python3.11/site-packages (from pandas_datareader) (2.2.3)\n",
      "Requirement already satisfied: requests>=2.19.0 in /opt/anaconda3/lib/python3.11/site-packages (from pandas_datareader) (2.31.0)\n",
      "Requirement already satisfied: numpy>=1.23.2 in /opt/anaconda3/lib/python3.11/site-packages (from pandas>=0.23->pandas_datareader) (1.26.4)\n",
      "Requirement already satisfied: python-dateutil>=2.8.2 in /opt/anaconda3/lib/python3.11/site-packages (from pandas>=0.23->pandas_datareader) (2.8.2)\n",
      "Requirement already satisfied: pytz>=2020.1 in /opt/anaconda3/lib/python3.11/site-packages (from pandas>=0.23->pandas_datareader) (2023.3.post1)\n",
      "Requirement already satisfied: tzdata>=2022.7 in /opt/anaconda3/lib/python3.11/site-packages (from pandas>=0.23->pandas_datareader) (2023.3)\n",
      "Requirement already satisfied: six>=1.5 in /opt/anaconda3/lib/python3.11/site-packages (from python-dateutil>=2.8.2->pandas>=0.23->pandas_datareader) (1.16.0)\n",
      "Requirement already satisfied: charset-normalizer<4,>=2 in /opt/anaconda3/lib/python3.11/site-packages (from requests>=2.19.0->pandas_datareader) (2.0.4)\n",
      "Requirement already satisfied: idna<4,>=2.5 in /opt/anaconda3/lib/python3.11/site-packages (from requests>=2.19.0->pandas_datareader) (3.4)\n",
      "Requirement already satisfied: urllib3<3,>=1.21.1 in /opt/anaconda3/lib/python3.11/site-packages (from requests>=2.19.0->pandas_datareader) (2.0.7)\n",
      "Requirement already satisfied: certifi>=2017.4.17 in /opt/anaconda3/lib/python3.11/site-packages (from requests>=2.19.0->pandas_datareader) (2025.4.26)\n",
      "Using cached pandas_datareader-0.10.0-py3-none-any.whl (109 kB)\n",
      "Installing collected packages: pandas_datareader\n",
      "Successfully installed pandas_datareader-0.10.0\n",
      "\n",
      "\u001b[1m[\u001b[0m\u001b[34;49mnotice\u001b[0m\u001b[1;39;49m]\u001b[0m\u001b[39;49m A new release of pip is available: \u001b[0m\u001b[31;49m25.1\u001b[0m\u001b[39;49m -> \u001b[0m\u001b[32;49m25.1.1\u001b[0m\n",
      "\u001b[1m[\u001b[0m\u001b[34;49mnotice\u001b[0m\u001b[1;39;49m]\u001b[0m\u001b[39;49m To update, run: \u001b[0m\u001b[32;49mpip install --upgrade pip\u001b[0m\n",
      "Note: you may need to restart the kernel to use updated packages.\n"
     ]
    }
   ],
   "source": [
    "pip install pandas_datareader\n"
   ]
  },
  {
   "cell_type": "code",
   "execution_count": 14,
   "id": "659163ee-9bd3-43f4-b3dd-96347b3c8c04",
   "metadata": {},
   "outputs": [],
   "source": [
    "# Folder: scripts/ingest_compustat.py\n",
    "import wrds\n",
    "import pandas as pd\n",
    "from sqlalchemy import create_engine"
   ]
  },
  {
   "cell_type": "code",
   "execution_count": 15,
   "id": "09917623-41a1-4941-9d3e-d2a9dc85bdf7",
   "metadata": {},
   "outputs": [],
   "source": [
    "# WRDS login and parameters\n",
    "start_date = '2005-01-01'\n",
    "end_date = '2023-12-31'\n",
    "db_path = \"/Users/niveditavats/Documents/Projects_CC/equity_analytics_pipelines/database/investment_data.sqlite\""
   ]
  },
  {
   "cell_type": "code",
   "execution_count": 20,
   "id": "13de8947-923f-4e8f-84b7-23f5d1bbef20",
   "metadata": {},
   "outputs": [],
   "source": [
    "# start_date = \"2005-01-01\"\n",
    "# end_date = \"2023-12-31\"\n",
    "# db_path = \"/Users/niveditavats/Documents/Projects_CC/equity_analytics_pipelines/database/investment_data.sqlite\"\n"
   ]
  },
  {
   "cell_type": "code",
   "execution_count": 16,
   "id": "10cb09fa-606c-44cf-97a7-efc95110ab79",
   "metadata": {},
   "outputs": [
    {
     "name": "stdout",
     "output_type": "stream",
     "text": [
      "Loading library list...\n",
      "Done\n"
     ]
    }
   ],
   "source": [
    "# Connect to WRDS and SQLite\n",
    "conn = wrds.Connection()\n",
    "engine = create_engine(f\"sqlite:///{db_path}\")"
   ]
  },
  {
   "cell_type": "code",
   "execution_count": 8,
   "id": "592a6d09-f797-4bae-8a43-3e694e2fa8fd",
   "metadata": {},
   "outputs": [
    {
     "ename": "AttributeError",
     "evalue": "'Connection' object has no attribute 'list_table_columns'",
     "output_type": "error",
     "traceback": [
      "\u001b[0;31m---------------------------------------------------------------------------\u001b[0m",
      "\u001b[0;31mAttributeError\u001b[0m                            Traceback (most recent call last)",
      "Cell \u001b[0;32mIn[8], line 1\u001b[0m\n\u001b[0;32m----> 1\u001b[0m conn\u001b[38;5;241m.\u001b[39mlist_table_columns(library\u001b[38;5;241m=\u001b[39m\u001b[38;5;124m'\u001b[39m\u001b[38;5;124mcomp\u001b[39m\u001b[38;5;124m'\u001b[39m, table\u001b[38;5;241m=\u001b[39m\u001b[38;5;124m'\u001b[39m\u001b[38;5;124mfundq\u001b[39m\u001b[38;5;124m'\u001b[39m)\n",
      "\u001b[0;31mAttributeError\u001b[0m: 'Connection' object has no attribute 'list_table_columns'"
     ]
    }
   ],
   "source": [
    "conn.list_table_columns(library='comp', table='fundq')\n"
   ]
  },
  {
   "cell_type": "code",
   "execution_count": 19,
   "id": "78275ed1-2f8a-46cc-b1b3-baedd5775b31",
   "metadata": {},
   "outputs": [],
   "source": [
    "# Query Compustat fundamentals (quarterly) — using confirmed columns only\n",
    "query = f\"\"\"\n",
    "    SELECT gvkey, datadate, atq AS at, ltq AS lt, saleq AS sale, cogsq AS cogs, xintq AS xint, xsgaq AS xsga, oancfy AS oancf\n",
    "    FROM comp.fundq\n",
    "    WHERE indfmt = 'INDL'\n",
    "      AND datafmt = 'STD'\n",
    "      AND consol = 'C'\n",
    "      AND popsrc = 'D'\n",
    "      AND datadate BETWEEN '{start_date}' AND '{end_date}'\n",
    "\"\"\"\n",
    "data = conn.raw_sql(query)"
   ]
  },
  {
   "cell_type": "code",
   "execution_count": 20,
   "id": "a2a5b560-d8db-4e56-941a-68dfd87b5494",
   "metadata": {},
   "outputs": [],
   "source": [
    "\n",
    "# Example mapping (replace with CCM linking table in future)\n",
    "data['symbol'] = 'AAPL'\n",
    "data['datadate'] = pd.to_datetime(data['datadate'])\n",
    "data['book_equity'] = data['at'] - data['lt']"
   ]
  },
  {
   "cell_type": "code",
   "execution_count": 21,
   "id": "0a7c2699-ee1f-4264-9083-53e689f00cb9",
   "metadata": {},
   "outputs": [],
   "source": [
    "# Compute profitability\n",
    "with pd.option_context('mode.use_inf_as_na', True):\n",
    "    data['profitability'] = (data['sale'] - data['cogs'] - data['xsga'] - data['xint']) / data['at']\n"
   ]
  },
  {
   "cell_type": "code",
   "execution_count": 22,
   "id": "a7ef50c0-2f8e-4c04-9c26-066c1c30b9f1",
   "metadata": {},
   "outputs": [
    {
     "name": "stdout",
     "output_type": "stream",
     "text": [
      "Compustat data loaded from WRDS and stored in database.\n"
     ]
    }
   ],
   "source": [
    "# Write to database\n",
    "data.to_sql(\"compustat_quarterly\", con=engine, if_exists=\"replace\", index=False)\n",
    "print(\"Compustat data loaded from WRDS and stored in database.\")\n",
    "\n"
   ]
  },
  {
   "cell_type": "code",
   "execution_count": 23,
   "id": "a8acde8f-aa78-4f92-b790-132b2868a5c0",
   "metadata": {},
   "outputs": [
    {
     "name": "stdout",
     "output_type": "stream",
     "text": [
      "Loading library list...\n",
      "Done\n",
      "CRSP daily returns pulled from WRDS and stored in database.\n"
     ]
    }
   ],
   "source": [
    "\n",
    "\n",
    "# Folder: scripts/ingest_crsp.py\n",
    "import wrds\n",
    "import pandas as pd\n",
    "from sqlalchemy import create_engine\n",
    "\n",
    "start_date = '2020-01-01'\n",
    "end_date = '2023-12-31'\n",
    "db_path = '../database/investment_data.sqlite'\n",
    "\n",
    "conn = wrds.Connection()\n",
    "engine = create_engine(f\"sqlite:///{db_path}\")\n",
    "\n",
    "query = f\"\"\"\n",
    "    SELECT permno, date, ret\n",
    "    FROM crsp.dsf\n",
    "    WHERE date BETWEEN '{start_date}' AND '{end_date}'\n",
    "      AND permno IN (14593)  -- Example: AAPL permno, replace with mapped permnos\n",
    "\"\"\"\n",
    "\n",
    "prices = conn.raw_sql(query)\n",
    "prices['symbol'] = 'AAPL'\n",
    "prices['date'] = pd.to_datetime(prices['date'])\n",
    "prices = prices[prices['ret'].notnull()]\n",
    "prices.to_sql(\"crsp_daily\", con=engine, if_exists=\"replace\", index=False)\n",
    "print(\"CRSP daily returns pulled from WRDS and stored in database.\")\n",
    "\n"
   ]
  },
  {
   "cell_type": "code",
   "execution_count": 26,
   "id": "082da11d-9b0b-4cdb-8b0d-efa337bfdeb6",
   "metadata": {},
   "outputs": [
    {
     "name": "stderr",
     "output_type": "stream",
     "text": [
      "/var/folders/_j/hd0_zxdd7ms7hgqjnv9jqw280000gn/T/ipykernel_5541/2330263633.py:11: FutureWarning: The argument 'date_parser' is deprecated and will be removed in a future version. Please use 'date_format' instead, or read your data in as 'object' dtype and then call 'to_datetime'.\n",
      "  df = web.DataReader(\"F-F_Research_Data_Factors_daily\", \"famafrench\", start, end)[0]\n"
     ]
    },
    {
     "name": "stdout",
     "output_type": "stream",
     "text": [
      "Fama-French daily factors ingested and stored in database.\n"
     ]
    }
   ],
   "source": [
    "# Folder: scripts/ingest_fama_french.py\n",
    "import pandas_datareader.data as web\n",
    "from sqlalchemy import create_engine\n",
    "import datetime\n",
    "\n",
    "start = datetime.datetime(2005, 1, 1)\n",
    "end = datetime.datetime(2023, 12, 31)\n",
    "db_path = \"../database/investment_data.sqlite\"\n",
    "\n",
    "engine = create_engine(f\"sqlite:///{db_path}\")\n",
    "df = web.DataReader(\"F-F_Research_Data_Factors_daily\", \"famafrench\", start, end)[0]\n",
    "df = df.reset_index().rename(columns={\n",
    "    'Mkt-RF': 'mktrf', 'SMB': 'smb', 'HML': 'hml', 'RF': 'rf', 'Date': 'date'\n",
    "})\n",
    "df['date'] = pd.to_datetime(df['date'])\n",
    "df.to_sql(\"fama_french_daily\", con=engine, if_exists=\"replace\", index=False)\n",
    "print(\"Fama-French daily factors ingested and stored in database.\")\n"
   ]
  },
  {
   "cell_type": "code",
   "execution_count": 30,
   "id": "428808e1-8f83-42bd-a529-726f8524a87e",
   "metadata": {
    "scrolled": true
   },
   "outputs": [
    {
     "name": "stdout",
     "output_type": "stream",
     "text": [
      "Merged data with quarterly returns stored in database.\n"
     ]
    }
   ],
   "source": [
    "# Folder: scripts/merge_and_compute_returns.py\n",
    "import pandas as pd\n",
    "from sqlalchemy import create_engine\n",
    "\n",
    "engine = create_engine(\"sqlite:///../database/investment_data.sqlite\")\n",
    "\n",
    "comp = pd.read_sql(\"SELECT * FROM compustat_quarterly\", con=engine)\n",
    "comp['datadate'] = pd.to_datetime(comp['datadate'])\n",
    "crsp = pd.read_sql(\"SELECT * FROM crsp_daily\", con=engine)\n",
    "crsp['date'] = pd.to_datetime(crsp['date'])\n",
    "ff = pd.read_sql(\"SELECT * FROM fama_french_daily\", con=engine)\n",
    "\n",
    "crsp['quarter'] = crsp['date'].dt.to_period('Q')\n",
    "returns_qtr = crsp.groupby(['symbol', 'quarter'])['ret'].apply(lambda x: (1 + x).prod() - 1).reset_index()\n",
    "returns_qtr = returns_qtr.rename(columns={'ret': 'qtr_return'})\n",
    "\n",
    "comp['quarter'] = comp['datadate'].dt.to_period('Q')\n",
    "\n",
    "merged = pd.merge(comp, returns_qtr, on=['symbol', 'quarter'], how='inner')\n",
    "merged['quarter'] = merged['quarter'].astype(str)\n",
    "merged.to_sql(\"merged_fundamentals_returns\", con=engine, if_exists=\"replace\", index=False)\n",
    "print(\"Merged data with quarterly returns stored in database.\")\n"
   ]
  },
  {
   "cell_type": "code",
   "execution_count": null,
   "id": "651988cd-f905-4257-aac3-ab984a194bd3",
   "metadata": {},
   "outputs": [],
   "source": []
  },
  {
   "cell_type": "code",
   "execution_count": null,
   "id": "badc2586-fe3d-4b1d-9ed9-1c7dafca865f",
   "metadata": {},
   "outputs": [],
   "source": []
  },
  {
   "cell_type": "code",
   "execution_count": null,
   "id": "f9dbca40-cea7-4756-bd33-104f7d4f0506",
   "metadata": {},
   "outputs": [],
   "source": []
  },
  {
   "cell_type": "code",
   "execution_count": null,
   "id": "a4449d3a-906c-4678-ba0f-68b6f30c1c39",
   "metadata": {},
   "outputs": [],
   "source": []
  },
  {
   "cell_type": "code",
   "execution_count": 10,
   "id": "69de2e65-40fd-4c12-8706-419f26337ea4",
   "metadata": {},
   "outputs": [],
   "source": []
  },
  {
   "cell_type": "code",
   "execution_count": null,
   "id": "5bb1003c-7146-4c51-93f2-f1cdd41faddc",
   "metadata": {},
   "outputs": [],
   "source": []
  },
  {
   "cell_type": "code",
   "execution_count": null,
   "id": "d554b34f-9259-462a-a3ed-0c811e6aa3fd",
   "metadata": {},
   "outputs": [],
   "source": []
  },
  {
   "cell_type": "code",
   "execution_count": null,
   "id": "a12226e4-fd4a-40d3-85bb-e2099d28e333",
   "metadata": {},
   "outputs": [],
   "source": []
  },
  {
   "cell_type": "code",
   "execution_count": null,
   "id": "90e38ff5-35fc-4773-abb7-ef811cb8d4cb",
   "metadata": {},
   "outputs": [],
   "source": []
  },
  {
   "cell_type": "code",
   "execution_count": null,
   "id": "17530221-b0ab-4225-81a5-58342b03cfd5",
   "metadata": {},
   "outputs": [],
   "source": []
  },
  {
   "cell_type": "code",
   "execution_count": null,
   "id": "a8d48040-a98f-4c30-8fd6-736bc54dc9ac",
   "metadata": {},
   "outputs": [],
   "source": []
  },
  {
   "cell_type": "code",
   "execution_count": null,
   "id": "0b3948d2-68d2-4f1c-9a26-c5ee7ec689d7",
   "metadata": {},
   "outputs": [],
   "source": []
  },
  {
   "cell_type": "code",
   "execution_count": null,
   "id": "b749cc58-934f-463b-807b-f297dfbdd896",
   "metadata": {},
   "outputs": [],
   "source": []
  }
 ],
 "metadata": {
  "kernelspec": {
   "display_name": "Python 3 (ipykernel)",
   "language": "python",
   "name": "python3"
  },
  "language_info": {
   "codemirror_mode": {
    "name": "ipython",
    "version": 3
   },
   "file_extension": ".py",
   "mimetype": "text/x-python",
   "name": "python",
   "nbconvert_exporter": "python",
   "pygments_lexer": "ipython3",
   "version": "3.11.8"
  }
 },
 "nbformat": 4,
 "nbformat_minor": 5
}
